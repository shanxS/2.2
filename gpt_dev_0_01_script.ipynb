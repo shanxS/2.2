{
  "nbformat": 4,
  "nbformat_minor": 0,
  "metadata": {
    "colab": {
      "provenance": [],
      "authorship_tag": "ABX9TyMjUQ+p1Et/YHwS/KbttBVU",
      "include_colab_link": true
    },
    "kernelspec": {
      "name": "python3",
      "display_name": "Python 3"
    },
    "language_info": {
      "name": "python"
    }
  },
  "cells": [
    {
      "cell_type": "markdown",
      "metadata": {
        "id": "view-in-github",
        "colab_type": "text"
      },
      "source": [
        "<a href=\"https://colab.research.google.com/github/shanxS/2.2/blob/master/gpt_dev_0_01_script.ipynb\" target=\"_parent\"><img src=\"https://colab.research.google.com/assets/colab-badge.svg\" alt=\"Open In Colab\"/></a>"
      ]
    },
    {
      "cell_type": "markdown",
      "source": [
        "# Setup"
      ],
      "metadata": {
        "id": "crxDYvHBKHYe"
      }
    },
    {
      "cell_type": "code",
      "execution_count": 9,
      "metadata": {
        "colab": {
          "base_uri": "https://localhost:8080/"
        },
        "id": "ThJiAvWp_CWq",
        "outputId": "b000916a-c545-4c86-862a-40bfe2b2bd28"
      },
      "outputs": [
        {
          "output_type": "stream",
          "name": "stdout",
          "text": [
            "--2023-05-10 04:52:54--  https://raw.githubusercontent.com/karpathy/char-rnn/master/data/tinyshakespeare/input.txt\n",
            "Resolving raw.githubusercontent.com (raw.githubusercontent.com)... 185.199.109.133, 185.199.110.133, 185.199.111.133, ...\n",
            "Connecting to raw.githubusercontent.com (raw.githubusercontent.com)|185.199.109.133|:443... connected.\n",
            "HTTP request sent, awaiting response... 200 OK\n",
            "Length: 1115394 (1.1M) [text/plain]\n",
            "Saving to: ‘input.txt.8’\n",
            "\n",
            "\rinput.txt.8           0%[                    ]       0  --.-KB/s               \rinput.txt.8         100%[===================>]   1.06M  --.-KB/s    in 0.05s   \n",
            "\n",
            "2023-05-10 04:52:54 (19.6 MB/s) - ‘input.txt.8’ saved [1115394/1115394]\n",
            "\n"
          ]
        }
      ],
      "source": [
        "import torch\n",
        "import torch.nn as nn\n",
        "from torch.nn import functional as F\n",
        "\n",
        "# hyper parameters\n",
        "batch_size = 32\n",
        "block_size = 8\n",
        "max_iters = 3000\n",
        "eval_interval = 300\n",
        "learning_rate = 1e-2\n",
        "device = 'cuda' if torch.cuda.is_available() else 'cpu'\n",
        "eval_iters = 200\n",
        "n_embed = 32\n",
        "#----------------\n",
        "\n",
        "torch.manual_seed(1337)\n",
        "\n",
        "!wget https://raw.githubusercontent.com/karpathy/char-rnn/master/data/tinyshakespeare/input.txt\n",
        "with open('input.txt', 'r', encoding='utf-8') as f:\n",
        "    text = f.read()\n",
        "\n",
        "chars = sorted(list(set(''.join(text))))\n",
        "vocab_size = len(chars)\n",
        "stoi = {s:i for i,s in enumerate(chars)}\n",
        "itos = {i:s for s,i in stoi.items()}\n",
        "encode = lambda s: [stoi[c] for c in s]\n",
        "decode = lambda l: ''.join([itos[i] for i in l])\n",
        "\n",
        "\n",
        "data = torch.tensor(encode(text), dtype=torch.long)\n",
        "n = int(0.9*len(data))\n",
        "train_data = data[:n]\n",
        "val_data = data[n:]\n",
        "\n",
        "def get_batch(split):\n",
        "  data = train_data if split == 'train' else val_data\n",
        "  ix = torch.randint(len(data)-block_size, (batch_size,))\n",
        "  x = torch.stack( [data[i: i+block_size] for i in ix] )\n",
        "  y = torch.stack( [data[i+1:i+block_size+1] for i in ix] )\n",
        "  x, y = x.to(device), y.to(device)\n",
        "  return x, y\n",
        "\n",
        "@torch.no_grad()\n",
        "def estimate_loss():\n",
        "  out = {}\n",
        "  model.eval()\n",
        "  for split in ['train', 'val']:\n",
        "    losses = torch.zeros(eval_iters)\n",
        "    for K in range(eval_iters):\n",
        "      X, Y = get_batch(split)\n",
        "      logits, loss = model(X, Y)\n",
        "      losses[K] = loss.item()\n",
        "    out[split] = losses.mean()\n",
        "  model.train()\n",
        "  return out\n",
        "\n",
        "\n"
      ]
    },
    {
      "cell_type": "markdown",
      "source": [
        "# Bigram model"
      ],
      "metadata": {
        "id": "UBC8_DSEKO6C"
      }
    },
    {
      "cell_type": "code",
      "source": [
        "class BigramLangugageModel(nn.Module):\n",
        "\n",
        "  def __init__(self):\n",
        "    super().__init__()\n",
        "    '''\n",
        "    1st argument is size of dict\n",
        "    2nd argument is size of embedding for each input token\n",
        "    So the dim is vocab_size x C, where C is Channel\n",
        "    '''\n",
        "    self.token_embedding_table = nn.Embedding(vocab_size, vocab_size)\n",
        "\n",
        "  def forward(self, input, target = None):\n",
        "    '''\n",
        "    This is the output. Literally just dot product of input (B x T) and embedding table (vocab_size x channel) to get embedding\n",
        "    I think it internally converts input into one hot encoding of size (B x T x vocab_size)\n",
        "    B: number of inputs\n",
        "    T: size of each input\n",
        "    C: channel\n",
        "    '''\n",
        "    # print(input)\n",
        "    # print(target)\n",
        "    \n",
        "    logits = self.token_embedding_table(input) # (B x T x C)\n",
        "\n",
        "    if target is None:\n",
        "      loss = None\n",
        "    else:\n",
        "      B, T, C = logits.shape\n",
        "      logits = logits.view(B*T, C)\n",
        "      target = target.view(B*T)\n",
        "      loss = F.cross_entropy(logits, target)\n",
        "\n",
        "    return logits, loss\n",
        "\n",
        "  def generate(self, idx, max_new_tokens):\n",
        "    for _ in range(max_new_tokens):\n",
        "      logits, _ = self(idx)\n",
        "      logits = logits[:, -1, :] # I dont understand why last index is predicted token\n",
        "\n",
        "      # logits = logits.exp()\n",
        "      # prob = logits / logits.sum(1, keepdims = True)\n",
        "      prob = F.softmax(logits, dim=-1) # (B, C)\n",
        "\n",
        "      idx_next = torch.multinomial(prob, num_samples=1)\n",
        "      idx = torch.cat((idx, idx_next), dim =1)\n",
        "    return idx"
      ],
      "metadata": {
        "id": "sR_H4eDdKErP"
      },
      "execution_count": 2,
      "outputs": []
    },
    {
      "cell_type": "markdown",
      "source": [
        "### Model training & eval"
      ],
      "metadata": {
        "id": "-fFYlof0MNri"
      }
    },
    {
      "cell_type": "code",
      "source": [
        "model = BigramLangugageModel()\n",
        "m = model.to(device)\n",
        "\n",
        "optimizer = torch.optim.AdamW(m.parameters(), lr=learning_rate)"
      ],
      "metadata": {
        "id": "SIaL0x18_8I5"
      },
      "execution_count": 3,
      "outputs": []
    },
    {
      "cell_type": "code",
      "source": [
        "for iter in range(max_iters):\n",
        "  if iter % eval_interval == 0:\n",
        "    losses = estimate_loss()\n",
        "    print(f\"step:{iter} training loss:{losses['train']} val loss:{losses['val']}\")\n",
        "\n",
        "  xb, yb = get_batch('train')    \n",
        "  logits, loss = model(xb, yb)\n",
        "  optimizer.zero_grad(set_to_none=True)\n",
        "  loss.backward()\n",
        "  optimizer.step()"
      ],
      "metadata": {
        "colab": {
          "base_uri": "https://localhost:8080/"
        },
        "id": "IhR6ay9mCu3a",
        "outputId": "175d31bd-bec3-475c-b887-b46a035ef9e7"
      },
      "execution_count": 4,
      "outputs": [
        {
          "output_type": "stream",
          "name": "stdout",
          "text": [
            "step:0 training loss:4.730469226837158 val loss:4.724065780639648\n",
            "step:300 training loss:2.810985803604126 val loss:2.824899911880493\n",
            "step:600 training loss:2.5434393882751465 val loss:2.5682179927825928\n",
            "step:900 training loss:2.4931976795196533 val loss:2.508826971054077\n",
            "step:1200 training loss:2.486262321472168 val loss:2.503467559814453\n",
            "step:1500 training loss:2.466465711593628 val loss:2.4920854568481445\n",
            "step:1800 training loss:2.4682557582855225 val loss:2.493600845336914\n",
            "step:2100 training loss:2.4696457386016846 val loss:2.4845683574676514\n",
            "step:2400 training loss:2.463808298110962 val loss:2.487889051437378\n",
            "step:2700 training loss:2.473775863647461 val loss:2.4910616874694824\n"
          ]
        }
      ]
    },
    {
      "cell_type": "markdown",
      "source": [
        "### Generate"
      ],
      "metadata": {
        "id": "gZgcDW5aNKqN"
      }
    },
    {
      "cell_type": "code",
      "source": [
        "context = torch.zeros((1,1), dtype = torch.long, device = device)\n",
        "print(decode(model.generate(context, max_new_tokens = 400)[0].tolist()))"
      ],
      "metadata": {
        "colab": {
          "base_uri": "https://localhost:8080/"
        },
        "id": "jGwAjSUsM711",
        "outputId": "8e58ec24-8194-4982-e44f-d7d9a11ee307"
      },
      "execution_count": 5,
      "outputs": [
        {
          "output_type": "stream",
          "name": "stdout",
          "text": [
            "\n",
            "od nos CAy go ghanoray t, co haringoudrou clethe k,LARof fr werar,\n",
            "Is fa!\n",
            "\n",
            "\n",
            "Thilemel cia h hmboomyorarifrcitheviPO, tle dst f qur'dig t cof boddo y t o ar pileas h mo wierl t,\n",
            "S:\n",
            "STENENEat I athe thounomy tinrent distesisanimald 3I: eliento ald, avaviconofrisist me Busarend un'soto vat s k,\n",
            "SBRI he the f wendleindd t acoe ts ansu, thy ppr h.QULY:\n",
            "KIIsqu pr odEd ch,\n",
            "APrnes ouse bll owhored miner t \n"
          ]
        }
      ]
    },
    {
      "cell_type": "code",
      "source": [
        "len(chars)"
      ],
      "metadata": {
        "id": "1Q2ToqnZNW4w",
        "colab": {
          "base_uri": "https://localhost:8080/"
        },
        "outputId": "db7f0e50-4bb3-433b-a785-928f08c01493"
      },
      "execution_count": 6,
      "outputs": [
        {
          "output_type": "execute_result",
          "data": {
            "text/plain": [
              "65"
            ]
          },
          "metadata": {},
          "execution_count": 6
        }
      ]
    },
    {
      "cell_type": "markdown",
      "source": [
        "# Self attention"
      ],
      "metadata": {
        "id": "9Js6SMbOkQqk"
      }
    },
    {
      "cell_type": "code",
      "source": [
        "# reset some vars\n",
        "max_iters = 3000\n",
        "eval_interval = 300\n",
        "learning_rate = 1e-2"
      ],
      "metadata": {
        "id": "id-FjUaZAXhO"
      },
      "execution_count": 10,
      "outputs": []
    },
    {
      "cell_type": "code",
      "source": [
        "class Head(nn.Module):\n",
        "  ''' one head of self attention '''\n",
        "\n",
        "  def __init__(self, head_size):\n",
        "    super().__init__()\n",
        "    self.key = nn.Linear(n_embed, head_size, bias=False)\n",
        "    self.query = nn.Linear(n_embed, head_size, bias=False)\n",
        "    self.value = nn.Linear(n_embed, head_size, bias=False)\n",
        "    self.register_buffer('tril', torch.tril(torch.ones(block_size, block_size)))\n",
        "\n",
        "  def forward(self, x):\n",
        "    B,T,C = x.shape\n",
        "\n",
        "    k = self.key(x)   # B x T x head_size\n",
        "    q = self.query(x) \n",
        "    v = self.value(x)\n",
        "\n",
        "    wei = q @ k.transpose(-2, -1) * C**-0.5 # divide by C^2 so that wei is closer to 0, so that softmax does not get spiky\n",
        "    wei = wei.masked_fill(self.tril[:T, :T] == 0, float('-inf')) # Dont talk to future\n",
        "    wei = torch.softmax(wei, dim=-1) # get sweet distribution\n",
        "\n",
        "    out = wei @ v\n",
        "\n",
        "    return out\n",
        "\n",
        "\n"
      ],
      "metadata": {
        "id": "J4ZhUXVBQ8r5"
      },
      "execution_count": 11,
      "outputs": []
    },
    {
      "cell_type": "markdown",
      "source": [
        "## Single head attention"
      ],
      "metadata": {
        "id": "L4_2rz4MCOGg"
      }
    },
    {
      "cell_type": "code",
      "source": [
        "class BigramLangugageModel_single_head(nn.Module):\n",
        "\n",
        "  def __init__(self):\n",
        "    super().__init__()\n",
        "   \n",
        "    '''\n",
        "    1st argument is size of dict\n",
        "    2nd argument is size of embedding for each input token\n",
        "    So the dim is vocab_size x C, where C is Channel\n",
        "    '''\n",
        "    self.token_embedding_table = nn.Embedding(vocab_size, n_embed)\n",
        "    self.position_embedding_table = nn.Embedding(block_size, n_embed)\n",
        "    '''\n",
        "    This is needed to get final output with col count = vocab_size.\n",
        "    Since `token_embedding_table` and `position_embedding_table` have col size\n",
        "    of `n_embed` now\n",
        "    '''\n",
        "    self.lm_head = nn.Linear(n_embed, vocab_size) \n",
        "\n",
        "    self.sa_head = Head(n_embed) # self attention head\n",
        "\n",
        "  def forward(self, input, target = None):\n",
        "    '''\n",
        "    This is the output. Literally just dot product of input (B x T) and embedding table (vocab_size x channel) to get embedding\n",
        "    I think it internally converts input into one hot encoding of size (B x T x vocab_size)\n",
        "    B: number of inputs\n",
        "    T: size of each input\n",
        "    C: channel\n",
        "    '''\n",
        "    # print(input)\n",
        "    # print(target)\n",
        "    \n",
        "    B, T = input.shape\n",
        "\n",
        "    tok_emb = self.token_embedding_table(input) # (B x T x C)\n",
        "    pos_emb = self.position_embedding_table(torch.arange(T, device=device)) # T x C\n",
        "    \n",
        "    # holds token identities + token position\n",
        "    x = tok_emb + pos_emb # B x T x C, after broadcasting pos_emb along B dim\n",
        "    x = self.sa_head(x) # apply one head of self attention, B x T x C\n",
        "\n",
        "    logits = self.lm_head(x) # (B x T x vocab_size)\n",
        "\n",
        "    if target is None:\n",
        "      loss = None\n",
        "    else:\n",
        "      B, T, C = logits.shape\n",
        "      logits = logits.view(B*T, C)\n",
        "      target = target.view(B*T)\n",
        "      loss = F.cross_entropy(logits, target)\n",
        "\n",
        "    return logits, loss\n",
        "\n",
        "  def generate(self, idx, max_new_tokens):\n",
        "    for _ in range(max_new_tokens):\n",
        "      idx_cond = idx[:, -block_size:] # in case idx is longer than block size then truncate\n",
        "\n",
        "      logits, _ = self(idx_cond)\n",
        "      logits = logits[:, -1, :] # I dont understand why last index is predicted token\n",
        "\n",
        "      # logits = logits.exp()\n",
        "      # prob = logits / logits.sum(1, keepdims = True)\n",
        "      prob = F.softmax(logits, dim=-1) # (B, C)\n",
        "\n",
        "      idx_next = torch.multinomial(prob, num_samples=1)\n",
        "      idx = torch.cat((idx, idx_next), dim =1)\n",
        "    return idx"
      ],
      "metadata": {
        "id": "j45CRplg8wpW"
      },
      "execution_count": 24,
      "outputs": []
    },
    {
      "cell_type": "markdown",
      "source": [
        "### Model training & eval"
      ],
      "metadata": {
        "id": "8OZI2RJp_ve8"
      }
    },
    {
      "cell_type": "code",
      "source": [
        "model = BigramLangugageModel_single_head()\n",
        "m = model.to(device)\n",
        "\n",
        "optimizer = torch.optim.AdamW(m.parameters(), lr=learning_rate)"
      ],
      "metadata": {
        "id": "ghAmwCMG_usc"
      },
      "execution_count": 25,
      "outputs": []
    },
    {
      "cell_type": "code",
      "source": [
        "for iter in range(max_iters):\n",
        "  if iter % eval_interval == 0:\n",
        "    losses = estimate_loss()\n",
        "    print(f\"step:{iter} training loss:{losses['train']} val loss:{losses['val']}\")\n",
        "\n",
        "  xb, yb = get_batch('train')    \n",
        "  logits, loss = model(xb, yb)\n",
        "  optimizer.zero_grad(set_to_none=True)\n",
        "  loss.backward()\n",
        "  optimizer.step()"
      ],
      "metadata": {
        "colab": {
          "base_uri": "https://localhost:8080/"
        },
        "id": "uOAuVvPwAb7P",
        "outputId": "a369788a-ad24-4674-dea8-0b3062f83ed5"
      },
      "execution_count": 26,
      "outputs": [
        {
          "output_type": "stream",
          "name": "stdout",
          "text": [
            "step:0 training loss:4.250924110412598 val loss:4.256104469299316\n",
            "step:300 training loss:2.5366618633270264 val loss:2.5366082191467285\n",
            "step:600 training loss:2.4622108936309814 val loss:2.4957945346832275\n",
            "step:900 training loss:2.469174385070801 val loss:2.4936718940734863\n",
            "step:1200 training loss:2.422745704650879 val loss:2.43999981880188\n",
            "step:1500 training loss:2.43143367767334 val loss:2.468873977661133\n",
            "step:1800 training loss:2.436877965927124 val loss:2.4684174060821533\n",
            "step:2100 training loss:2.414781093597412 val loss:2.463193655014038\n",
            "step:2400 training loss:2.411428689956665 val loss:2.4394421577453613\n",
            "step:2700 training loss:2.4159631729125977 val loss:2.4437668323516846\n"
          ]
        }
      ]
    },
    {
      "cell_type": "code",
      "source": [
        "context = torch.zeros((1,1), dtype = torch.long, device = device)\n",
        "print(decode(model.generate(context, max_new_tokens = 400)[0].tolist()))"
      ],
      "metadata": {
        "colab": {
          "base_uri": "https://localhost:8080/"
        },
        "id": "LQ6y15G_AhZ1",
        "outputId": "5afb97f3-4dc1-404e-c364-a2ab7be32242"
      },
      "execution_count": 27,
      "outputs": [
        {
          "output_type": "stream",
          "name": "stdout",
          "text": [
            "\n",
            "CHEYo e be yo by oimavealeeaclf Vke tuie trhe ttplrat neande the sto!\n",
            "\n",
            "TUMrke byo mhe.  NI:\n",
            "O fillfee nn sut ics,\n",
            "A thus, tepai whir;\n",
            "on few-hor mpiil toos prit four pel pesel daaise.\n",
            "\n",
            "\n",
            "An-h\n",
            "\n",
            "Ast hat hed wheols,, the omar''d my w hiorild,\n",
            "Bene,\n",
            "Ed bens pies st\n",
            "Aoor myo, n lommee sun alverind,\n",
            "\n",
            "IL;\n",
            "brear cth,\n",
            "I rr'' lod shal, ce, aildot ay\n",
            "\n",
            "MAED ho fay doly fe lbe a,\n",
            "N INorcr te mat wisiete; lle my\n"
          ]
        }
      ]
    },
    {
      "cell_type": "code",
      "source": [],
      "metadata": {
        "id": "sn8FxsqjBPHw"
      },
      "execution_count": null,
      "outputs": []
    }
  ]
}