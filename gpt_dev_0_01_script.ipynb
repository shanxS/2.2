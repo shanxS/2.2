{
  "nbformat": 4,
  "nbformat_minor": 0,
  "metadata": {
    "colab": {
      "provenance": [],
      "authorship_tag": "ABX9TyMdHAYvjKyg7iEHCf1DsKjG",
      "include_colab_link": true
    },
    "kernelspec": {
      "name": "python3",
      "display_name": "Python 3"
    },
    "language_info": {
      "name": "python"
    }
  },
  "cells": [
    {
      "cell_type": "markdown",
      "metadata": {
        "id": "view-in-github",
        "colab_type": "text"
      },
      "source": [
        "<a href=\"https://colab.research.google.com/github/shanxS/2.2/blob/master/gpt_dev_0_01_script.ipynb\" target=\"_parent\"><img src=\"https://colab.research.google.com/assets/colab-badge.svg\" alt=\"Open In Colab\"/></a>"
      ]
    },
    {
      "cell_type": "markdown",
      "source": [
        "# Setup"
      ],
      "metadata": {
        "id": "crxDYvHBKHYe"
      }
    },
    {
      "cell_type": "code",
      "execution_count": 11,
      "metadata": {
        "colab": {
          "base_uri": "https://localhost:8080/"
        },
        "id": "ThJiAvWp_CWq",
        "outputId": "f72aef7f-d594-4169-a42b-f7b0158451db"
      },
      "outputs": [
        {
          "output_type": "stream",
          "name": "stdout",
          "text": [
            "--2023-05-10 01:40:50--  https://raw.githubusercontent.com/karpathy/char-rnn/master/data/tinyshakespeare/input.txt\n",
            "Resolving raw.githubusercontent.com (raw.githubusercontent.com)... 185.199.108.133, 185.199.109.133, 185.199.110.133, ...\n",
            "Connecting to raw.githubusercontent.com (raw.githubusercontent.com)|185.199.108.133|:443... connected.\n",
            "HTTP request sent, awaiting response... 200 OK\n",
            "Length: 1115394 (1.1M) [text/plain]\n",
            "Saving to: ‘input.txt.1’\n",
            "\n",
            "\rinput.txt.1           0%[                    ]       0  --.-KB/s               \rinput.txt.1         100%[===================>]   1.06M  --.-KB/s    in 0.05s   \n",
            "\n",
            "2023-05-10 01:40:50 (20.1 MB/s) - ‘input.txt.1’ saved [1115394/1115394]\n",
            "\n"
          ]
        }
      ],
      "source": [
        "import torch\n",
        "import torch.nn as nn\n",
        "from torch.nn import functional as F\n",
        "\n",
        "# hyper parameters\n",
        "batch_size = 32\n",
        "block_size = 8\n",
        "max_iters = 3000\n",
        "eval_interval = 300\n",
        "learning_rate = 1e-2\n",
        "device = 'cuda' if torch.cuda.is_available() else 'cpu'\n",
        "eval_iters = 200\n",
        "#----------------\n",
        "\n",
        "torch.manual_seed(1337)\n",
        "\n",
        "!wget https://raw.githubusercontent.com/karpathy/char-rnn/master/data/tinyshakespeare/input.txt\n",
        "with open('input.txt', 'r', encoding='utf-8') as f:\n",
        "    text = f.read()\n",
        "\n",
        "chars = sorted(list(set(''.join(text))))\n",
        "vocab_size = len(chars)\n",
        "stoi = {s:i for i,s in enumerate(chars)}\n",
        "itos = {i:s for s,i in stoi.items()}\n",
        "encode = lambda s: [stoi[c] for c in s]\n",
        "decode = lambda l: ''.join([itos[i] for i in l])\n",
        "\n",
        "\n",
        "data = torch.tensor(encode(text), dtype=torch.long)\n",
        "n = int(0.9*len(data))\n",
        "train_data = data[:n]\n",
        "val_data = data[n:]\n",
        "\n",
        "def get_batch(split):\n",
        "  data = train_data if split == 'train' else val_data\n",
        "  ix = torch.randint(len(data)-block_size, (batch_size,))\n",
        "  x = torch.stack( [data[i: i+block_size] for i in ix] )\n",
        "  y = torch.stack( [data[i+1:i+block_size+1] for i in ix] )\n",
        "  x, y = x.to(device), y.to(device)\n",
        "  return x, y\n",
        "\n",
        "@torch.no_grad()\n",
        "def estimate_loss():\n",
        "  out = {}\n",
        "  model.eval()\n",
        "  for split in ['train', 'val']:\n",
        "    losses = torch.zeros(eval_iters)\n",
        "    for K in range(eval_iters):\n",
        "      X, Y = get_batch(split)\n",
        "      logits, loss = model(X, Y)\n",
        "      losses[K] = loss.item()\n",
        "    out[split] = losses.mean()\n",
        "  model.train()\n",
        "  return out\n",
        "\n",
        "\n"
      ]
    },
    {
      "cell_type": "markdown",
      "source": [
        "# Bigram model"
      ],
      "metadata": {
        "id": "UBC8_DSEKO6C"
      }
    },
    {
      "cell_type": "code",
      "source": [
        "class BigramLangugageModel(nn.Module):\n",
        "\n",
        "  def __init__(self):\n",
        "    super().__init__()\n",
        "    '''\n",
        "    1st argument is size of dict\n",
        "    2nd argument is size of embedding for each input token\n",
        "    So the dim is vocab_size x C, where C is Channel\n",
        "    '''\n",
        "    self.token_embedding_table = nn.Embedding(vocab_size, vocab_size)\n",
        "\n",
        "  def forward(self, input, target = None):\n",
        "    '''\n",
        "    This is the output. Literally just dot product of input (B x T) and embedding table (vocab_size x channel) to get embedding\n",
        "    I think it internally converts input into one hot encoding of size (B x T x vocab_size)\n",
        "    B: number of inputs\n",
        "    T: size of each input\n",
        "    C: channel\n",
        "    '''\n",
        "    # print(input)\n",
        "    # print(target)\n",
        "    \n",
        "    logits = self.token_embedding_table(input) # (B x T x C)\n",
        "\n",
        "    if target is None:\n",
        "      loss = None\n",
        "    else:\n",
        "      B, T, C = logits.shape\n",
        "      logits = logits.view(B*T, C)\n",
        "      target = target.view(B*T)\n",
        "      loss = F.cross_entropy(logits, target)\n",
        "\n",
        "    return logits, loss\n",
        "\n",
        "  def generate(self, idx, max_new_tokens):\n",
        "    for _ in range(max_new_tokens):\n",
        "      logits, _ = self(idx)\n",
        "      logits = logits[:, -1, :] # I dont understand why last index is predicted token\n",
        "\n",
        "      # logits = logits.exp()\n",
        "      # prob = logits / logits.sum(1, keepdims = True)\n",
        "      prob = F.softmax(logits, dim=-1) # (B, C)\n",
        "\n",
        "      idx_next = torch.multinomial(prob, num_samples=1)\n",
        "      idx = torch.cat((idx, idx_next), dim =1)\n",
        "    return idx"
      ],
      "metadata": {
        "id": "sR_H4eDdKErP"
      },
      "execution_count": 12,
      "outputs": []
    },
    {
      "cell_type": "markdown",
      "source": [
        "# Model training & eval"
      ],
      "metadata": {
        "id": "-fFYlof0MNri"
      }
    },
    {
      "cell_type": "code",
      "source": [
        "model = BigramLangugageModel()\n",
        "m = model.to(device)\n",
        "\n",
        "optimizer = torch.optim.AdamW(m.parameters(), lr=learning_rate)"
      ],
      "metadata": {
        "id": "SIaL0x18_8I5"
      },
      "execution_count": 13,
      "outputs": []
    },
    {
      "cell_type": "code",
      "source": [
        "for iter in range(max_iters):\n",
        "  if iter % eval_interval == 0:\n",
        "    losses = estimate_loss()\n",
        "    print(f\"step:{iter} training loss:{losses['train']} val loss:{losses['val']}\")\n",
        "\n",
        "  xb, yb = get_batch('train')    \n",
        "  logits, loss = model(xb, yb)\n",
        "  optimizer.zero_grad(set_to_none=True)\n",
        "  loss.backward()\n",
        "  optimizer.step()"
      ],
      "metadata": {
        "colab": {
          "base_uri": "https://localhost:8080/"
        },
        "id": "IhR6ay9mCu3a",
        "outputId": "d342f6ec-81a6-4100-838a-90ed84eb450b"
      },
      "execution_count": 14,
      "outputs": [
        {
          "output_type": "stream",
          "name": "stdout",
          "text": [
            "step:0 training loss:4.730469226837158 val loss:4.724065780639648\n",
            "step:300 training loss:2.810985803604126 val loss:2.824899911880493\n",
            "step:600 training loss:2.5434393882751465 val loss:2.5682179927825928\n",
            "step:900 training loss:2.4931976795196533 val loss:2.508826971054077\n",
            "step:1200 training loss:2.486262321472168 val loss:2.503467559814453\n",
            "step:1500 training loss:2.466465711593628 val loss:2.4920854568481445\n",
            "step:1800 training loss:2.4682557582855225 val loss:2.493600845336914\n",
            "step:2100 training loss:2.4696457386016846 val loss:2.4845683574676514\n",
            "step:2400 training loss:2.463808298110962 val loss:2.487889051437378\n",
            "step:2700 training loss:2.473775863647461 val loss:2.4910616874694824\n"
          ]
        }
      ]
    },
    {
      "cell_type": "markdown",
      "source": [
        "# Generate"
      ],
      "metadata": {
        "id": "gZgcDW5aNKqN"
      }
    },
    {
      "cell_type": "code",
      "source": [
        "context = torch.zeros((1,1), dtype = torch.long, device = device)\n",
        "print(decode(m.generate(context, max_new_tokens = 400)[0].tolist()))"
      ],
      "metadata": {
        "colab": {
          "base_uri": "https://localhost:8080/"
        },
        "id": "jGwAjSUsM711",
        "outputId": "b6564b26-a7d7-4345-afd8-fc478cc2c2f8"
      },
      "execution_count": 15,
      "outputs": [
        {
          "output_type": "stream",
          "name": "stdout",
          "text": [
            "\n",
            "od nos CAy go ghanoray t, co haringoudrou clethe k,LARof fr werar,\n",
            "Is fa!\n",
            "\n",
            "\n",
            "Thilemel cia h hmboomyorarifrcitheviPO, tle dst f qur'dig t cof boddo y t o ar pileas h mo wierl t,\n",
            "S:\n",
            "STENENEat I athe thounomy tinrent distesisanimald 3I: eliento ald, avaviconofrisist me Busarend un'soto vat s k,\n",
            "SBRI he the f wendleindd t acoe ts ansu, thy ppr h.QULY:\n",
            "KIIsqu pr odEd ch,\n",
            "APrnes ouse bll owhored miner t \n"
          ]
        }
      ]
    },
    {
      "cell_type": "code",
      "source": [
        "len(chars)"
      ],
      "metadata": {
        "id": "1Q2ToqnZNW4w",
        "colab": {
          "base_uri": "https://localhost:8080/"
        },
        "outputId": "4fe5de9b-ae41-4f4b-d753-e4759ea7ac77"
      },
      "execution_count": null,
      "outputs": [
        {
          "output_type": "execute_result",
          "data": {
            "text/plain": [
              "65"
            ]
          },
          "metadata": {},
          "execution_count": 5
        }
      ]
    },
    {
      "cell_type": "code",
      "source": [],
      "metadata": {
        "id": "J4ZhUXVBQ8r5"
      },
      "execution_count": null,
      "outputs": []
    }
  ]
}